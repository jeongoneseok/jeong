{
 "cells": [
  {
   "cell_type": "code",
   "execution_count": 2,
   "id": "fa6198c8",
   "metadata": {},
   "outputs": [],
   "source": [
    "import numpy as np"
   ]
  },
  {
   "cell_type": "code",
   "execution_count": 17,
   "id": "eb56305c-46c7-4eb5-9e29-b4896a028c56",
   "metadata": {},
   "outputs": [
    {
     "name": "stdout",
     "output_type": "stream",
     "text": [
      "[ 3  6  7  3 -2]\n",
      "[[ 4 16 25  4 16]\n",
      " [ 4 16 49 49 81]\n",
      " [ 1 49  0 36 81]]\n"
     ]
    }
   ],
   "source": [
    "np.random.seed(1)\n",
    "arr1=np.random.randint(10,size=(5))\n",
    "arr2=np.random.randint(10,size=5)\n",
    "\n",
    "arr1 = arr1 - 2\n",
    "print(arr1)\n",
    "\n",
    "arr3 = arr1 + arr2\n",
    "arr3\n",
    "\n",
    "arr4 = np. random.randint(10,size=(3,5))\n",
    "\n",
    "arr5 = arr4 **2\n",
    "\n",
    "print(arr5)"
   ]
  },
  {
   "cell_type": "code",
   "execution_count": 28,
   "id": "bffc7fab-f063-4296-83af-4420816b5544",
   "metadata": {},
   "outputs": [
    {
     "name": "stdout",
     "output_type": "stream",
     "text": [
      "[2 1 0 1 2]\n",
      "[0.         1.57079633 3.14159265]\n",
      "[0.0000000e+00 1.0000000e+00 1.2246468e-16]\n",
      "[ 1.000000e+00  6.123234e-17 -1.000000e+00]\n",
      "[ 0.00000000e+00  1.63312394e+16 -1.22464680e-16]\n"
     ]
    }
   ],
   "source": [
    "x = np.array([-2,-1,0,1,2])\n",
    "\n",
    "print(np.abs(x))\n",
    "\n",
    "x = np.linspace(0,100,5)\n",
    "x\n",
    "\n",
    "theta = np.linspace(0,np.pi,3)\n",
    "\n",
    "print(theta)\n",
    "\n",
    "print(np.sin(theta))\n",
    "print(np.cos(theta))\n",
    "print(np.tan(theta))\n",
    "\n"
   ]
  },
  {
   "cell_type": "code",
   "execution_count": 39,
   "id": "aa65a78f-b588-4cf6-88fc-51e3c9a4a53a",
   "metadata": {},
   "outputs": [
    {
     "name": "stdout",
     "output_type": "stream",
     "text": [
      "10\n",
      "24\n"
     ]
    }
   ],
   "source": [
    "x = np.arange(1,5)\n",
    "arr = np.add.reduce(x)\n",
    "print(arr)\n",
    "\n",
    "aggr= np.multiply.reduce(x)\n",
    "print(aggr)\n"
   ]
  },
  {
   "cell_type": "code",
   "execution_count": 43,
   "id": "c5aaf686-3de0-4ea0-95a2-4ee7fbe38345",
   "metadata": {},
   "outputs": [
    {
     "name": "stdout",
     "output_type": "stream",
     "text": [
      "[  1   3   6  10  15  21  28  36  45  55  66  78  91 105]\n"
     ]
    }
   ],
   "source": [
    "x = np.arange(1,15)\n",
    "\n",
    "accum = np.add.accumulate(x)\n",
    "print(accum)"
   ]
  },
  {
   "cell_type": "code",
   "execution_count": 46,
   "id": "6e83554e-250f-424a-b47d-4af6e59a0a20",
   "metadata": {},
   "outputs": [
    {
     "name": "stdout",
     "output_type": "stream",
     "text": [
      "499468.5166853333\n",
      "67.3 ms ± 784 µs per loop (mean ± std. dev. of 7 runs, 10 loops each)\n"
     ]
    }
   ],
   "source": [
    "np.random.seed(2)\n",
    "arr = np.random.rand(1000000)\n",
    "\n",
    "print(np.sum(arr))\n",
    "\n",
    "%timeit sum(arr)"
   ]
  },
  {
   "cell_type": "code",
   "execution_count": 48,
   "id": "441a899a-26e5-46fd-8fce-d40f10d1cb04",
   "metadata": {},
   "outputs": [
    {
     "name": "stdout",
     "output_type": "stream",
     "text": [
      "1.1 ms ± 68.1 µs per loop (mean ± std. dev. of 7 runs, 1000 loops each)\n"
     ]
    }
   ],
   "source": [
    "%timeit np.sum(arr)"
   ]
  },
  {
   "cell_type": "code",
   "execution_count": 64,
   "id": "fdde710c-704e-4010-b7a6-0c065c1035e5",
   "metadata": {},
   "outputs": [
    {
     "name": "stdout",
     "output_type": "stream",
     "text": [
      "9\n",
      "0\n",
      "4.25\n",
      "5.0\n",
      "True\n",
      "False\n"
     ]
    }
   ],
   "source": [
    "print(np.max(arr))\n",
    "print(np.min(arr))\n",
    "print(np.mean(arr))\n",
    "print(np.median(arr))\n",
    "print(np.any(arr))\n",
    "print(np.all(arr))"
   ]
  },
  {
   "cell_type": "code",
   "execution_count": 62,
   "id": "1e79af7c-7311-4022-8808-859008a7d28a",
   "metadata": {},
   "outputs": [
    {
     "name": "stdout",
     "output_type": "stream",
     "text": [
      "[15 28  8]\n"
     ]
    }
   ],
   "source": [
    "np.random.seed(5)\n",
    "\n",
    "arr= np.random.randint(10,size=(3,4))\n",
    "\n",
    "print(np.sum(arr, axis=1))"
   ]
  }
 ],
 "metadata": {
  "kernelspec": {
   "display_name": "Python 3",
   "language": "python",
   "name": "python3"
  },
  "language_info": {
   "codemirror_mode": {
    "name": "ipython",
    "version": 3
   },
   "file_extension": ".py",
   "mimetype": "text/x-python",
   "name": "python",
   "nbconvert_exporter": "python",
   "pygments_lexer": "ipython3",
   "version": "3.8.8"
  }
 },
 "nbformat": 4,
 "nbformat_minor": 5
}
