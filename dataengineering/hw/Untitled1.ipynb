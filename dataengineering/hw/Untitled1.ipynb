{
 "cells": [
  {
   "cell_type": "code",
   "execution_count": null,
   "id": "2a87448c",
   "metadata": {},
   "outputs": [],
   "source": [
    "print(\"hello world\")\n",
    "print(100)\n",
    "x=3.14\n",
    "print(x)\n",
    "intro =\"my name is\"\n",
    "name = \" 정원석\"\n",
    "print(intro + name)\n",
    "\n",
    "#변수\n",
    "name = \" jeongwonseok\"\n",
    "age =  25\n",
    "phonenumber =  24273680\n",
    "\n",
    "#변수타입(정수)\n",
    "chair = 5\n",
    "desk = 3\n",
    "bed = 3\n",
    "table = 1\n",
    "sofa = 1\n",
    "\n",
    "\"\"\"\n",
    "data type: Real Number\n",
    "\"\"\"\n",
    "\n",
    "my_weight = 78.5\n",
    "my_tall = 180.5\n",
    "pi = 3.14 #떠오르지 않아서 죄송합니다 ㅠㅠ!\n",
    "\n",
    "\"\"\"\n",
    "data type: spring\n",
    "\"\"\"\n",
    "\n",
    "favorite_game = 'fifa'\n",
    "favorite_fodd = 'hamberger'\n",
    "favorite_movie = 'intime'\n",
    "\n",
    "\"\"\"\n",
    "plus_equal operations\n",
    "\"\"\"\n",
    "a = 8\n",
    "a /= 2\n",
    "print(a)"
   ]
  }
 ],
 "metadata": {
  "kernelspec": {
   "display_name": "Python 3",
   "language": "python",
   "name": "python3"
  },
  "language_info": {
   "codemirror_mode": {
    "name": "ipython",
    "version": 3
   },
   "file_extension": ".py",
   "mimetype": "text/x-python",
   "name": "python",
   "nbconvert_exporter": "python",
   "pygments_lexer": "ipython3",
   "version": "3.8.8"
  }
 },
 "nbformat": 4,
 "nbformat_minor": 5
}
