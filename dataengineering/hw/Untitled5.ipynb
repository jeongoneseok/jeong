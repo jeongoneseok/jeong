{
 "cells": [
  {
   "cell_type": "code",
   "execution_count": null,
   "id": "77932f9b",
   "metadata": {},
   "outputs": [],
   "source": [
    "test1 = np.array([92,94,88,91,87])\n",
    "test2 = np.array([79,100,86,93,91])\n",
    "test3 = np.array([87,85,72,90,92])\n",
    "\n",
    "test3_fixed = test3+2\n",
    "total_grade = test1 + test2 + test3_fixed\n",
    "\n",
    "final_grade = total_grade/3\n",
    "print(final_grade)\n",
    "\n",
    "jeremy_test_2 = test2[3]\n",
    "manual_adwoa_test_1 = test1[[0,2]]\n",
    "student_scores = np.array([[92,94,88,91,87],[79,100,86,93,91],[87,85,72,90,92]])\n",
    "student_scores[2][0]\n",
    "student_scores[:,-1]\n",
    "\n",
    "a = np.array([10, 2, 2, 4, 5, 3, 9, 8, 9, 7])\n",
    "selected = a[a > 5]\n",
    "print(selected)"
   ]
  }
 ],
 "metadata": {
  "kernelspec": {
   "display_name": "Python 3",
   "language": "python",
   "name": "python3"
  },
  "language_info": {
   "codemirror_mode": {
    "name": "ipython",
    "version": 3
   },
   "file_extension": ".py",
   "mimetype": "text/x-python",
   "name": "python",
   "nbconvert_exporter": "python",
   "pygments_lexer": "ipython3",
   "version": "3.8.8"
  }
 },
 "nbformat": 4,
 "nbformat_minor": 5
}
