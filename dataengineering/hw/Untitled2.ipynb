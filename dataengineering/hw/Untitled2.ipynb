{
 "cells": [
  {
   "cell_type": "code",
   "execution_count": null,
   "id": "df6cd349",
   "metadata": {},
   "outputs": [],
   "source": [
    "a=3\n",
    "b=5\n",
    "\n",
    "c=7\n",
    "d=6\n",
    "\n",
    "print(a>b)\n",
    "print(a<b)\n",
    "print(c>d)\n",
    "print(c<d)\n",
    "\n",
    "(1<2 or 3>1)\n",
    "(3<1 or 1>6)\n",
    "(1==1 or 1<2)"
   ]
  }
 ],
 "metadata": {
  "kernelspec": {
   "display_name": "Python 3",
   "language": "python",
   "name": "python3"
  },
  "language_info": {
   "codemirror_mode": {
    "name": "ipython",
    "version": 3
   },
   "file_extension": ".py",
   "mimetype": "text/x-python",
   "name": "python",
   "nbconvert_exporter": "python",
   "pygments_lexer": "ipython3",
   "version": "3.8.8"
  }
 },
 "nbformat": 4,
 "nbformat_minor": 5
}
