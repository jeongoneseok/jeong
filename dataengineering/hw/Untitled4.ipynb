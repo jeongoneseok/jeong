{
 "cells": [
  {
   "cell_type": "code",
   "execution_count": null,
   "id": "08ce4dfc",
   "metadata": {},
   "outputs": [],
   "source": [
    "sw_subject = ['c program', 'data1', 'database'] \n",
    "sw_subject.remove('algorithms')\n",
    "\n",
    "print(sw_subject)\n",
    "\n",
    "---------------------------------------------------------------------------\n",
    "ValueError                                Traceback (most recent call last)\n",
    "<ipython-input-1-f7d0f7824039> in <module>\n",
    "      2 \n",
    "      3 \n",
    "----> 4 sw_subject.remove('algorithms')\n",
    "      5 \n",
    "      6 print(sw_subject)"
   ]
  }
 ],
 "metadata": {
  "kernelspec": {
   "display_name": "Python 3",
   "language": "python",
   "name": "python3"
  },
  "language_info": {
   "codemirror_mode": {
    "name": "ipython",
    "version": 3
   },
   "file_extension": ".py",
   "mimetype": "text/x-python",
   "name": "python",
   "nbconvert_exporter": "python",
   "pygments_lexer": "ipython3",
   "version": "3.8.8"
  }
 },
 "nbformat": 4,
 "nbformat_minor": 5
}
