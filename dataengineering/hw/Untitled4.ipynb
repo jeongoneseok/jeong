{
 "cells": [
  {
   "cell_type": "code",
   "execution_count": 3,
   "id": "339b3ff4-5008-442a-91c5-2392b72c76d6",
   "metadata": {},
   "outputs": [],
   "source": [
    "import numpy as np\n",
    "import pandas as pd"
   ]
  },
  {
   "cell_type": "code",
   "execution_count": 7,
   "id": "b8c86a43-2022-4f56-8630-8d8b96984ef7",
   "metadata": {},
   "outputs": [
    {
     "name": "stdout",
     "output_type": "stream",
     "text": [
      "0    0.25\n",
      "1    0.50\n",
      "2    0.75\n",
      "3    1.00\n",
      "dtype: float64\n",
      "<class 'pandas.core.series.Series'>\n"
     ]
    }
   ],
   "source": [
    "ser=pd.Series([0.25,0.5,0.75,1.0])\n",
    "print(ser)\n",
    "print(type(ser))"
   ]
  },
  {
   "cell_type": "code",
   "execution_count": 8,
   "id": "7f55303d-9d06-4411-833f-eb59136d44c3",
   "metadata": {},
   "outputs": [
    {
     "name": "stdout",
     "output_type": "stream",
     "text": [
      "[0.25 0.5  0.75 1.  ]\n"
     ]
    }
   ],
   "source": [
    "arr=ser.values\n",
    "print(arr)"
   ]
  },
  {
   "cell_type": "code",
   "execution_count": 9,
   "id": "a5ed60ac-5cf0-4582-877e-e96303bc9c1c",
   "metadata": {},
   "outputs": [
    {
     "name": "stdout",
     "output_type": "stream",
     "text": [
      "RangeIndex(start=0, stop=4, step=1)\n"
     ]
    }
   ],
   "source": [
    "ind=ser.index\n",
    "print(ind)"
   ]
  },
  {
   "cell_type": "code",
   "execution_count": 12,
   "id": "f2a02040-efa8-4948-9030-9460f01d239d",
   "metadata": {},
   "outputs": [
    {
     "data": {
      "text/plain": [
       "{'a': 1, 2: 'two', 'third': True}"
      ]
     },
     "execution_count": 12,
     "metadata": {},
     "output_type": "execute_result"
    }
   ],
   "source": [
    "dict = {'a':1,2:'two','third': True}\n",
    "dict"
   ]
  },
  {
   "cell_type": "code",
   "execution_count": 13,
   "id": "f29ee383-69b9-4a97-ba0d-a9535573480a",
   "metadata": {},
   "outputs": [
    {
     "name": "stdout",
     "output_type": "stream",
     "text": [
      "a           1\n",
      "2         two\n",
      "third    True\n",
      "dtype: object\n"
     ]
    }
   ],
   "source": [
    "ser = pd.Series(dict)\n",
    "print(ser)"
   ]
  },
  {
   "cell_type": "code",
   "execution_count": 23,
   "id": "5bbb57d8-1cde-4812-a989-32f00beff760",
   "metadata": {},
   "outputs": [
    {
     "name": "stdout",
     "output_type": "stream",
     "text": [
      "[[0.21996208 0.07165266]\n",
      " [0.88516017 0.1691452 ]\n",
      " [0.86210963 0.03930934]] \n",
      "\n"
     ]
    }
   ],
   "source": [
    "x=np.random.rand(3,2)\n",
    "print(x,'\\n')\n"
   ]
  },
  {
   "cell_type": "code",
   "execution_count": 32,
   "id": "47f2addf-43e0-462e-a089-c61e6ceb1b9f",
   "metadata": {},
   "outputs": [
    {
     "name": "stdout",
     "output_type": "stream",
     "text": [
      "a        0.125\n",
      "2          two\n",
      "third     True\n",
      "e         1.25\n",
      "dtype: object\n",
      "a        0.125\n",
      "2          two\n",
      "third     True\n",
      "e         1.25\n",
      "dtype: object\n"
     ]
    }
   ],
   "source": [
    "ser['e']=1.25\n",
    "ser['a']=0.125\n",
    "print(ser)\n",
    "print(ser['a':'e'])"
   ]
  },
  {
   "cell_type": "code",
   "execution_count": 37,
   "id": "66745e5a-71ac-4551-abae-fa0fb4eedf40",
   "metadata": {},
   "outputs": [
    {
     "data": {
      "text/plain": [
       "a        0.125\n",
       "2          two\n",
       "third     True\n",
       "e         1.25\n",
       "dtype: object"
      ]
     },
     "execution_count": 37,
     "metadata": {},
     "output_type": "execute_result"
    }
   ],
   "source": [
    "ser.loc['a':'e']"
   ]
  },
  {
   "cell_type": "code",
   "execution_count": 38,
   "id": "c71ca898-e043-4523-8a40-95fbe6316943",
   "metadata": {},
   "outputs": [
    {
     "data": {
      "text/plain": [
       "2         two\n",
       "third    True\n",
       "dtype: object"
      ]
     },
     "execution_count": 38,
     "metadata": {},
     "output_type": "execute_result"
    }
   ],
   "source": [
    "ser.iloc[1:3]"
   ]
  },
  {
   "cell_type": "code",
   "execution_count": null,
   "id": "688160ba-5491-4a6c-981b-1c932a529119",
   "metadata": {},
   "outputs": [],
   "source": []
  }
 ],
 "metadata": {
  "kernelspec": {
   "display_name": "Python 3",
   "language": "python",
   "name": "python3"
  },
  "language_info": {
   "codemirror_mode": {
    "name": "ipython",
    "version": 3
   },
   "file_extension": ".py",
   "mimetype": "text/x-python",
   "name": "python",
   "nbconvert_exporter": "python",
   "pygments_lexer": "ipython3",
   "version": "3.8.8"
  }
 },
 "nbformat": 4,
 "nbformat_minor": 5
}
