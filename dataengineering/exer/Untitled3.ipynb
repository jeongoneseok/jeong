{
 "cells": [
  {
   "cell_type": "code",
   "execution_count": 1,
   "id": "b3f57ed6",
   "metadata": {},
   "outputs": [
    {
     "name": "stdout",
     "output_type": "stream",
     "text": [
      "customer one items\n",
      "lovely loveseat. tufted polyester blend on wood. 32 inches high X 40 inches wide X 30 inches deep red or whiteluxurious lamp. glass and iron. 36 inches tall. brown with cream shade.\n",
      "customer_one_total\n",
      "333.09119999999996\n"
     ]
    }
   ],
   "source": [
    "# tasrs\n",
    "lovely_loveseat_decription = \"lovely loveseat. tufted polyester blend on wood. 32 inches high X 40 inches wide X 30 inches deep red or white\"\n",
    "lovely_loveseat_price = 254.00\n",
    "\n",
    "stylish_settee_description = \"stylish settee faux leather on birch. 29.50 inches high X 54.75 inches wide X 28 inches deep. black\"\n",
    "stylish_settee_price = 180.50\n",
    "\n",
    "luxurious_lamp_description = \"luxurious lamp. glass and iron. 36 inches tall. brown with cream shade.\"\n",
    "luxurious_lamp_price = 52.15\n",
    "\n",
    "sales_tax = .088\n",
    "\n",
    "# our first customer\n",
    "\n",
    "customer_one_total = 0\n",
    "customer_one_itemization = \"\"\n",
    "\n",
    "# 1st purchase\n",
    "customer_one_total = lovely_loveseat_price\n",
    "customer_one_itemization = lovely_loveseat_decription\n",
    "\n",
    "# 2st purchase\n",
    "customer_one_total += luxurious_lamp_price\n",
    "customer_one_itemization += luxurious_lamp_description\n",
    "\n",
    "# 3st purchase\n",
    "customer_one_tax = customer_one_total * sales_tax\n",
    "customer_one_total += customer_one_tax\n",
    "\n",
    "#customer receipt\n",
    "print(\"customer one items\")\n",
    "print(customer_one_itemization)\n",
    "print(\"customer_one_total\")\n",
    "print(customer_one_total)"
   ]
  }
 ],
 "metadata": {
  "kernelspec": {
   "display_name": "Python 3",
   "language": "python",
   "name": "python3"
  },
  "language_info": {
   "codemirror_mode": {
    "name": "ipython",
    "version": 3
   },
   "file_extension": ".py",
   "mimetype": "text/x-python",
   "name": "python",
   "nbconvert_exporter": "python",
   "pygments_lexer": "ipython3",
   "version": "3.8.8"
  }
 },
 "nbformat": 4,
 "nbformat_minor": 5
}
