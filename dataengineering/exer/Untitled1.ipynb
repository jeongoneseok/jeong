{
 "cells": [
  {
   "cell_type": "code",
   "execution_count": 1,
   "id": "06838718-d6e6-46ef-9379-625364e40104",
   "metadata": {},
   "outputs": [
    {
     "name": "stdout",
     "output_type": "stream",
     "text": [
      "[['physics', 98], ['calculus', 97], ['poetry', 85], ['history', 88]]\n",
      "[['politics', 80], ['latin', 96], ['dance', 97], ['architecture', 65], ['physics', 98], ['calculus', 97], ['poetry', 85], ['history', 88], ['computer science', 100], ['visual arts', 98]]\n"
     ]
    }
   ],
   "source": [
    "subjects = [\"physics\",\"calculus\",\"poetry\",\"history\"]\n",
    "\n",
    "grades = [98,97,85,88]\n",
    "\n",
    "gradebook = [['physics', 98], ['calculus', 97], ['poetry', 85], ['history', 88]]\n",
    "\n",
    "print(gradebook)\n",
    "\n",
    "gradebook.append([\"computer science\", 100])\n",
    "\n",
    "gradebook.append([\"visual arts\", 93])\n",
    "\n",
    "gradebook.remove([\"visual arts\", 93])\n",
    "\n",
    "gradebook.append([\"visual arts\",98])\n",
    "\n",
    "last_semester_gradebook = [[\"politics\", 80], [\"latin\", 96], [\"dance\", 97], [\"architecture\", 65]]\n",
    "\n",
    "full_gradebook = last_semester_gradebook + gradebook\n",
    "\n",
    "print(full_gradebook)"
   ]
  }
 ],
 "metadata": {
  "kernelspec": {
   "display_name": "Python 3",
   "language": "python",
   "name": "python3"
  },
  "language_info": {
   "codemirror_mode": {
    "name": "ipython",
    "version": 3
   },
   "file_extension": ".py",
   "mimetype": "text/x-python",
   "name": "python",
   "nbconvert_exporter": "python",
   "pygments_lexer": "ipython3",
   "version": "3.8.8"
  }
 },
 "nbformat": 4,
 "nbformat_minor": 5
}
