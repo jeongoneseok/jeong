{
 "cells": [
  {
   "cell_type": "code",
   "execution_count": 1,
   "id": "54d33ee3-30f2-4169-ae17-6ba8442a14e7",
   "metadata": {},
   "outputs": [
    {
     "name": "stdout",
     "output_type": "stream",
     "text": [
      "31.875\n",
      "[25, 20, 35, 15, 15, 30, 45, 30]\n",
      "1085\n",
      "155.0\n",
      "bowl\n"
     ]
    }
   ],
   "source": [
    "hairstyles = [[\"bouffant\",30,2], [\"pixie\",25,3], [\"dreadlocks\",40,5], [\"crew\",20,8], [\"bowl\",20,4], [\"bob\",35,4], [\"mohawk\",50,6], [\"flattop\",35,2]]\n",
    "prices = [30, 25, 40, 20, 20, 35, 50, 35]\n",
    "\n",
    "total_price = 0\n",
    "total_price = prices\n",
    "\n",
    "sum = 0\n",
    "\n",
    "for total in total_price:\n",
    "    sum += total\n",
    "average_price = sum / len(total_price)\n",
    "\n",
    "print(average_price)\n",
    "\n",
    "total = [25,20,35,15,15,30,45,30]\n",
    "\n",
    "new_total = total\n",
    "\n",
    "print(total)\n",
    "\n",
    "total_revenue = 0\n",
    "\n",
    "for i in hairstyles:\n",
    "    total_revenue += i[1]*i[2]\n",
    "    \n",
    "print(total_revenue)\n",
    "average_daily_revenue = total_revenue/7\n",
    "\n",
    "print(average_daily_revenue)\n",
    "\n",
    "\n",
    "for i in hairstyles:\n",
    "    if i[1]<30:\n",
    "        cuts_under_30 = i[0]\n",
    "\n",
    "print(cuts_under_30)   "
   ]
  }
 ],
 "metadata": {
  "kernelspec": {
   "display_name": "Python 3",
   "language": "python",
   "name": "python3"
  },
  "language_info": {
   "codemirror_mode": {
    "name": "ipython",
    "version": 3
   },
   "file_extension": ".py",
   "mimetype": "text/x-python",
   "name": "python",
   "nbconvert_exporter": "python",
   "pygments_lexer": "ipython3",
   "version": "3.8.8"
  }
 },
 "nbformat": 4,
 "nbformat_minor": 5
}
