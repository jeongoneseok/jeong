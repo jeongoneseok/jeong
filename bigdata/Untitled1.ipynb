{
 "cells": [
  {
   "cell_type": "code",
   "execution_count": 1,
   "id": "3289c259",
   "metadata": {},
   "outputs": [],
   "source": [
    "# [+] SparkSession 설정\n",
    "from pyspark.sql import SparkSession\n",
    "spark = SparkSession.builder.master('local').appName('udf').getOrCreate()"
   ]
  },
  {
   "cell_type": "code",
   "execution_count": 2,
   "id": "1c7931c2",
   "metadata": {},
   "outputs": [],
   "source": [
    "data = [\n",
    "    ('안현', 39),\n",
    "    ('원석', 27),\n",
    "    ('민지', 25),\n",
    "    ('현수', 43),\n",
    "    ('도현', 32),\n",
    "    ('은진', 31)\n",
    "]"
   ]
  },
  {
   "cell_type": "code",
   "execution_count": 3,
   "id": "3557ada9",
   "metadata": {},
   "outputs": [],
   "source": [
    "df = spark.createDataFrame(data, ['name', 'age'])"
   ]
  },
  {
   "cell_type": "code",
   "execution_count": 4,
   "id": "77bc5c3f",
   "metadata": {},
   "outputs": [],
   "source": [
    "def age_category(age):\n",
    "    if age < 35:\n",
    "        return 'young'\n",
    "    elif age >= 60:\n",
    "        return 'senior'\n",
    "    else:\n",
    "        return 'adult'"
   ]
  },
  {
   "cell_type": "code",
   "execution_count": 9,
   "id": "aa2f3867",
   "metadata": {},
   "outputs": [],
   "source": [
    "df = spark.createDataFrame(data, ['name', 'age'])"
   ]
  },
  {
   "cell_type": "code",
   "execution_count": 10,
   "id": "1f04a264",
   "metadata": {},
   "outputs": [],
   "source": [
    "df.createOrReplaceTempView(\"people\")"
   ]
  },
  {
   "cell_type": "code",
   "execution_count": 11,
   "id": "626d6b9c",
   "metadata": {},
   "outputs": [
    {
     "data": {
      "text/plain": [
       "<function __main__.<lambda>(age)>"
      ]
     },
     "execution_count": 11,
     "metadata": {},
     "output_type": "execute_result"
    }
   ],
   "source": [
    "spark.udf.register(\"age_category\", lambda age: 'young' if age < 35 else ('senior' if age >= 60 else 'adult'))"
   ]
  },
  {
   "cell_type": "code",
   "execution_count": 12,
   "id": "efbe3f76",
   "metadata": {},
   "outputs": [
    {
     "name": "stdout",
     "output_type": "stream",
     "text": [
      "+----+------------+\n",
      "|name|age_category|\n",
      "+----+------------+\n",
      "|안현|       adult|\n",
      "|원석|       young|\n",
      "|민지|       young|\n",
      "|현수|       adult|\n",
      "|도현|       young|\n",
      "|은진|       young|\n",
      "+----+------------+\n",
      "\n"
     ]
    }
   ],
   "source": [
    "result = spark.sql(\"SELECT name, age_category(age) AS age_category FROM people\")\n",
    "result.show()"
   ]
  },
  {
   "cell_type": "code",
   "execution_count": null,
   "id": "7449e903",
   "metadata": {},
   "outputs": [],
   "source": []
  }
 ],
 "metadata": {
  "kernelspec": {
   "display_name": "Python 3 (ipykernel)",
   "language": "python",
   "name": "python3"
  },
  "language_info": {
   "codemirror_mode": {
    "name": "ipython",
    "version": 3
   },
   "file_extension": ".py",
   "mimetype": "text/x-python",
   "name": "python",
   "nbconvert_exporter": "python",
   "pygments_lexer": "ipython3",
   "version": "3.9.13"
  }
 },
 "nbformat": 4,
 "nbformat_minor": 5
}
