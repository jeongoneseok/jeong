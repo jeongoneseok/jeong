{
 "cells": [
  {
   "cell_type": "code",
   "execution_count": 18,
   "id": "e956f2f6",
   "metadata": {},
   "outputs": [],
   "source": [
    "import numpy as np\n",
    "import pandas as pd\n",
    "\n"
   ]
  },
  {
   "cell_type": "code",
   "execution_count": 15,
   "id": "96300a74",
   "metadata": {},
   "outputs": [
    {
     "data": {
      "text/plain": [
       "DatetimeIndex(['2022-01-03', '2022-04-01', '2022-07-01', '2022-10-03',\n",
       "               '2023-01-02', '2023-04-03', '2023-07-03', '2023-10-02',\n",
       "               '2024-01-01', '2024-04-01'],\n",
       "              dtype='datetime64[ns]', freq='BQS-JAN')"
      ]
     },
     "execution_count": 15,
     "metadata": {},
     "output_type": "execute_result"
    }
   ],
   "source": [
    "pd.date_range(\"2021-11-01\",periods=10, freq='BQS')"
   ]
  },
  {
   "cell_type": "code",
   "execution_count": 16,
   "id": "550614a6",
   "metadata": {},
   "outputs": [
    {
     "data": {
      "text/plain": [
       "DatetimeIndex(['2021-11-01 00:00:00', '2021-11-01 02:30:00',\n",
       "               '2021-11-01 05:00:00', '2021-11-01 07:30:00',\n",
       "               '2021-11-01 10:00:00', '2021-11-01 12:30:00',\n",
       "               '2021-11-01 15:00:00', '2021-11-01 17:30:00',\n",
       "               '2021-11-01 20:00:00'],\n",
       "              dtype='datetime64[ns]', freq='150T')"
      ]
     },
     "execution_count": 16,
     "metadata": {},
     "output_type": "execute_result"
    }
   ],
   "source": [
    "pd.date_range(\"2021-11-01\",periods=9, freq='2H30T')"
   ]
  },
  {
   "cell_type": "code",
   "execution_count": 21,
   "id": "1a33fc4e",
   "metadata": {},
   "outputs": [
    {
     "data": {
      "text/plain": [
       "Timestamp('2021-11-02 15:28:30')"
      ]
     },
     "execution_count": 21,
     "metadata": {},
     "output_type": "execute_result"
    }
   ],
   "source": [
    "from pandas.tseries.offsets import DateOffset\n",
    "ts = pd.Timestamp(\"2021-10-31 23:28:30\")\n",
    "ts + DateOffset(hours=40)"
   ]
  },
  {
   "cell_type": "code",
   "execution_count": 26,
   "id": "b8d2c69e",
   "metadata": {},
   "outputs": [],
   "source": [
    "ts = DateOffset(years=71,month=4,hours=19,minutes=28,seconds=30)"
   ]
  },
  {
   "cell_type": "code",
   "execution_count": 30,
   "id": "f69fc393",
   "metadata": {},
   "outputs": [
    {
     "name": "stdout",
     "output_type": "stream",
     "text": [
      "Requirement already satisfied: pandas_datareader in c:\\users\\shjun\\anaconda3\\lib\\site-packages (0.10.0)\n",
      "Requirement already satisfied: lxml in c:\\users\\shjun\\anaconda3\\lib\\site-packages (from pandas_datareader) (4.6.3)\n",
      "Requirement already satisfied: requests>=2.19.0 in c:\\users\\shjun\\anaconda3\\lib\\site-packages (from pandas_datareader) (2.25.1)\n",
      "Requirement already satisfied: pandas>=0.23 in c:\\users\\shjun\\anaconda3\\lib\\site-packages (from pandas_datareader) (1.2.4)\n",
      "Requirement already satisfied: pytz>=2017.3 in c:\\users\\shjun\\anaconda3\\lib\\site-packages (from pandas>=0.23->pandas_datareader) (2021.1)\n",
      "Requirement already satisfied: numpy>=1.16.5 in c:\\users\\shjun\\anaconda3\\lib\\site-packages (from pandas>=0.23->pandas_datareader) (1.20.1)\n",
      "Requirement already satisfied: python-dateutil>=2.7.3 in c:\\users\\shjun\\anaconda3\\lib\\site-packages (from pandas>=0.23->pandas_datareader) (2.8.1)\n",
      "Requirement already satisfied: six>=1.5 in c:\\users\\shjun\\anaconda3\\lib\\site-packages (from python-dateutil>=2.7.3->pandas>=0.23->pandas_datareader) (1.15.0)\n",
      "Requirement already satisfied: certifi>=2017.4.17 in c:\\users\\shjun\\anaconda3\\lib\\site-packages (from requests>=2.19.0->pandas_datareader) (2020.12.5)\n",
      "Requirement already satisfied: chardet<5,>=3.0.2 in c:\\users\\shjun\\anaconda3\\lib\\site-packages (from requests>=2.19.0->pandas_datareader) (4.0.0)\n",
      "Requirement already satisfied: idna<3,>=2.5 in c:\\users\\shjun\\anaconda3\\lib\\site-packages (from requests>=2.19.0->pandas_datareader) (2.10)\n",
      "Requirement already satisfied: urllib3<1.27,>=1.21.1 in c:\\users\\shjun\\anaconda3\\lib\\site-packages (from requests>=2.19.0->pandas_datareader) (1.26.4)\n",
      "Note: you may need to restart the kernel to use updated packages.\n"
     ]
    }
   ],
   "source": [
    "pip install pandas_datareader"
   ]
  },
  {
   "cell_type": "code",
   "execution_count": 39,
   "id": "7a7f79bb",
   "metadata": {},
   "outputs": [
    {
     "name": "stdout",
     "output_type": "stream",
     "text": [
      "                   High          Low         Open        Close      Volume  \\\n",
      "Date                                                                         \n",
      "2004-08-19    51.835709    47.800831    49.813290    49.982655  44871361.0   \n",
      "2004-08-20    54.336334    50.062355    50.316402    53.952770  22942874.0   \n",
      "2004-08-23    56.528118    54.321388    55.168217    54.495735  18342897.0   \n",
      "2004-08-24    55.591629    51.591621    55.412300    52.239197  15319808.0   \n",
      "2004-08-25    53.798351    51.746044    52.284027    52.802086   9232276.0   \n",
      "...                 ...          ...          ...          ...         ...   \n",
      "2020-12-24  1746.000000  1729.109985  1735.000000  1738.849976    346800.0   \n",
      "2020-12-28  1790.728027  1746.334961  1751.635010  1776.089966   1393000.0   \n",
      "2020-12-29  1792.439941  1756.089966  1787.790039  1758.719971   1299400.0   \n",
      "2020-12-30  1765.094971  1725.599976  1762.010010  1739.520020   1306100.0   \n",
      "2020-12-31  1758.930054  1735.420044  1735.420044  1751.880005   1011900.0   \n",
      "\n",
      "              Adj Close  \n",
      "Date                     \n",
      "2004-08-19    49.982655  \n",
      "2004-08-20    53.952770  \n",
      "2004-08-23    54.495735  \n",
      "2004-08-24    52.239197  \n",
      "2004-08-25    52.802086  \n",
      "...                 ...  \n",
      "2020-12-24  1738.849976  \n",
      "2020-12-28  1776.089966  \n",
      "2020-12-29  1758.719971  \n",
      "2020-12-30  1739.520020  \n",
      "2020-12-31  1751.880005  \n",
      "\n",
      "[4122 rows x 6 columns]\n"
     ]
    }
   ],
   "source": [
    "from pandas_datareader import data\n",
    "goog = data.DataReader(\"GOOG\",start= '2004',end='2021',data_source='yahoo')\n",
    "print(goog)\n"
   ]
  },
  {
   "cell_type": "code",
   "execution_count": 37,
   "id": "aa3010cd",
   "metadata": {},
   "outputs": [
    {
     "data": {
      "image/png": "[encoded data removed]",
      "text/plain": [
       "<Figure size 432x288 with 1 Axes>"
      ]
     },
     "metadata": {
      "needs_background": "light"
     },
     "output_type": "display_data"
    }
   ],
   "source": [
    "goog.plot();"
   ]
  },
  {
   "cell_type": "code",
   "execution_count": 41,
   "id": "eb7f179c",
   "metadata": {},
   "outputs": [
    {
     "data": {
      "text/html": [
       "<div>\n",
       "<style scoped>\n",
       "    .dataframe tbody tr th:only-of-type {\n",
       "        vertical-align: middle;\n",
       "    }\n",
       "\n",
       "    .dataframe tbody tr th {\n",
       "        vertical-align: top;\n",
       "    }\n",
       "\n",
       "    .dataframe thead th {\n",
       "        text-align: right;\n",
       "    }\n",
       "</style>\n",
       "<table border=\"1\" class=\"dataframe\">\n",
       "  <thead>\n",
       "    <tr style=\"text-align: right;\">\n",
       "      <th></th>\n",
       "      <th>High</th>\n",
       "      <th>Low</th>\n",
       "      <th>Open</th>\n",
       "      <th>Close</th>\n",
       "      <th>Volume</th>\n",
       "      <th>Adj Close</th>\n",
       "    </tr>\n",
       "    <tr>\n",
       "      <th>Date</th>\n",
       "      <th></th>\n",
       "      <th></th>\n",
       "      <th></th>\n",
       "      <th></th>\n",
       "      <th></th>\n",
       "      <th></th>\n",
       "    </tr>\n",
       "  </thead>\n",
       "  <tbody>\n",
       "    <tr>\n",
       "      <th>2004-08-19 00:00:00</th>\n",
       "      <td>51.835709</td>\n",
       "      <td>47.800831</td>\n",
       "      <td>49.813290</td>\n",
       "      <td>49.982655</td>\n",
       "      <td>44871361.0</td>\n",
       "      <td>49.982655</td>\n",
       "    </tr>\n",
       "    <tr>\n",
       "      <th>2004-08-19 01:00:00</th>\n",
       "      <td>NaN</td>\n",
       "      <td>NaN</td>\n",
       "      <td>NaN</td>\n",
       "      <td>NaN</td>\n",
       "      <td>NaN</td>\n",
       "      <td>NaN</td>\n",
       "    </tr>\n",
       "    <tr>\n",
       "      <th>2004-08-19 02:00:00</th>\n",
       "      <td>NaN</td>\n",
       "      <td>NaN</td>\n",
       "      <td>NaN</td>\n",
       "      <td>NaN</td>\n",
       "      <td>NaN</td>\n",
       "      <td>NaN</td>\n",
       "    </tr>\n",
       "    <tr>\n",
       "      <th>2004-08-19 03:00:00</th>\n",
       "      <td>NaN</td>\n",
       "      <td>NaN</td>\n",
       "      <td>NaN</td>\n",
       "      <td>NaN</td>\n",
       "      <td>NaN</td>\n",
       "      <td>NaN</td>\n",
       "    </tr>\n",
       "    <tr>\n",
       "      <th>2004-08-19 04:00:00</th>\n",
       "      <td>NaN</td>\n",
       "      <td>NaN</td>\n",
       "      <td>NaN</td>\n",
       "      <td>NaN</td>\n",
       "      <td>NaN</td>\n",
       "      <td>NaN</td>\n",
       "    </tr>\n",
       "    <tr>\n",
       "      <th>...</th>\n",
       "      <td>...</td>\n",
       "      <td>...</td>\n",
       "      <td>...</td>\n",
       "      <td>...</td>\n",
       "      <td>...</td>\n",
       "      <td>...</td>\n",
       "    </tr>\n",
       "    <tr>\n",
       "      <th>2020-12-30 20:00:00</th>\n",
       "      <td>NaN</td>\n",
       "      <td>NaN</td>\n",
       "      <td>NaN</td>\n",
       "      <td>NaN</td>\n",
       "      <td>NaN</td>\n",
       "      <td>NaN</td>\n",
       "    </tr>\n",
       "    <tr>\n",
       "      <th>2020-12-30 21:00:00</th>\n",
       "      <td>NaN</td>\n",
       "      <td>NaN</td>\n",
       "      <td>NaN</td>\n",
       "      <td>NaN</td>\n",
       "      <td>NaN</td>\n",
       "      <td>NaN</td>\n",
       "    </tr>\n",
       "    <tr>\n",
       "      <th>2020-12-30 22:00:00</th>\n",
       "      <td>NaN</td>\n",
       "      <td>NaN</td>\n",
       "      <td>NaN</td>\n",
       "      <td>NaN</td>\n",
       "      <td>NaN</td>\n",
       "      <td>NaN</td>\n",
       "    </tr>\n",
       "    <tr>\n",
       "      <th>2020-12-30 23:00:00</th>\n",
       "      <td>NaN</td>\n",
       "      <td>NaN</td>\n",
       "      <td>NaN</td>\n",
       "      <td>NaN</td>\n",
       "      <td>NaN</td>\n",
       "      <td>NaN</td>\n",
       "    </tr>\n",
       "    <tr>\n",
       "      <th>2020-12-31 00:00:00</th>\n",
       "      <td>1758.930054</td>\n",
       "      <td>1735.420044</td>\n",
       "      <td>1735.420044</td>\n",
       "      <td>1751.880005</td>\n",
       "      <td>1011900.0</td>\n",
       "      <td>1751.880005</td>\n",
       "    </tr>\n",
       "  </tbody>\n",
       "</table>\n",
       "<p>143473 rows × 6 columns</p>\n",
       "</div>"
      ],
      "text/plain": [
       "                            High          Low         Open        Close  \\\n",
       "Date                                                                      \n",
       "2004-08-19 00:00:00    51.835709    47.800831    49.813290    49.982655   \n",
       "2004-08-19 01:00:00          NaN          NaN          NaN          NaN   \n",
       "2004-08-19 02:00:00          NaN          NaN          NaN          NaN   \n",
       "2004-08-19 03:00:00          NaN          NaN          NaN          NaN   \n",
       "2004-08-19 04:00:00          NaN          NaN          NaN          NaN   \n",
       "...                          ...          ...          ...          ...   \n",
       "2020-12-30 20:00:00          NaN          NaN          NaN          NaN   \n",
       "2020-12-30 21:00:00          NaN          NaN          NaN          NaN   \n",
       "2020-12-30 22:00:00          NaN          NaN          NaN          NaN   \n",
       "2020-12-30 23:00:00          NaN          NaN          NaN          NaN   \n",
       "2020-12-31 00:00:00  1758.930054  1735.420044  1735.420044  1751.880005   \n",
       "\n",
       "                         Volume    Adj Close  \n",
       "Date                                          \n",
       "2004-08-19 00:00:00  44871361.0    49.982655  \n",
       "2004-08-19 01:00:00         NaN          NaN  \n",
       "2004-08-19 02:00:00         NaN          NaN  \n",
       "2004-08-19 03:00:00         NaN          NaN  \n",
       "2004-08-19 04:00:00         NaN          NaN  \n",
       "...                         ...          ...  \n",
       "2020-12-30 20:00:00         NaN          NaN  \n",
       "2020-12-30 21:00:00         NaN          NaN  \n",
       "2020-12-30 22:00:00         NaN          NaN  \n",
       "2020-12-30 23:00:00         NaN          NaN  \n",
       "2020-12-31 00:00:00   1011900.0  1751.880005  \n",
       "\n",
       "[143473 rows x 6 columns]"
      ]
     },
     "execution_count": 41,
     "metadata": {},
     "output_type": "execute_result"
    }
   ],
   "source": [
    "goog.resample('Q').median()\n",
    "\n",
    "goog.resample('H').max()"
   ]
  },
  {
   "cell_type": "code",
   "execution_count": null,
   "id": "7a9b8fbe",
   "metadata": {},
   "outputs": [],
   "source": []
  }
 ],
 "metadata": {
  "kernelspec": {
   "display_name": "Python 3",
   "language": "python",
   "name": "python3"
  },
  "language_info": {
   "codemirror_mode": {
    "name": "ipython",
    "version": 3
   },
   "file_extension": ".py",
   "mimetype": "text/x-python",
   "name": "python",
   "nbconvert_exporter": "python",
   "pygments_lexer": "ipython3",
   "version": "3.8.8"
  }
 },
 "nbformat": 4,
 "nbformat_minor": 5
}
